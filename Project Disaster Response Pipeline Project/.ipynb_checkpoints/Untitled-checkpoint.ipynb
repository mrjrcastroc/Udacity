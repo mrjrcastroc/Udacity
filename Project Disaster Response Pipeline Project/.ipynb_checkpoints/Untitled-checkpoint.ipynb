{
 "cells": [
  {
   "cell_type": "code",
   "execution_count": 5,
   "id": "ac3cdda7-d24c-4775-85b7-f8561ab304c6",
   "metadata": {},
   "outputs": [],
   "source": [
    "import pandas as pd\n",
    "from sqlalchemy import create_engine\n",
    "\n",
    "engine = create_engine('sqlite:///Workspace/data/DisasterResponse.db')\n",
    "df = pd.read_sql_table('tb_messages', engine)\n"
   ]
  },
  {
   "cell_type": "code",
   "execution_count": 19,
   "id": "1f2483f1-613d-43af-8fe3-c3ead2732e7e",
   "metadata": {},
   "outputs": [],
   "source": [
    "def ReturnCategory(df):\n",
    "    for column in df.columns:\n",
    "        for value in df[column].values:\n",
    "            print(value)\n"
   ]
  },
  {
   "cell_type": "code",
   "execution_count": 12,
   "id": "68bced8b-a458-4de9-86ee-252f04791369",
   "metadata": {},
   "outputs": [
    {
     "data": {
      "text/plain": [
       "0        True\n",
       "1        True\n",
       "2        True\n",
       "3        True\n",
       "4        True\n",
       "         ... \n",
       "10033    True\n",
       "10034    True\n",
       "10035    True\n",
       "10036    True\n",
       "10037    True\n",
       "Name: related, Length: 10038, dtype: bool"
      ]
     },
     "execution_count": 12,
     "metadata": {},
     "output_type": "execute_result"
    }
   ],
   "source": [
    "df['related'] == 1"
   ]
  }
 ],
 "metadata": {
  "kernelspec": {
   "display_name": "Python 3 (ipykernel)",
   "language": "python",
   "name": "python3"
  },
  "language_info": {
   "codemirror_mode": {
    "name": "ipython",
    "version": 3
   },
   "file_extension": ".py",
   "mimetype": "text/x-python",
   "name": "python",
   "nbconvert_exporter": "python",
   "pygments_lexer": "ipython3",
   "version": "3.9.7"
  }
 },
 "nbformat": 4,
 "nbformat_minor": 5
}
